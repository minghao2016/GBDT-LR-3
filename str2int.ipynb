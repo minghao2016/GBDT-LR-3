{
 "cells": [
  {
   "cell_type": "code",
   "execution_count": 2,
   "metadata": {},
   "outputs": [],
   "source": [
    "# the discrete feature of string cannot be trained in sklearn(one-hot), so transform to int using pandas.factorize.\n",
    "import pandas as pd"
   ]
  },
  {
   "cell_type": "code",
   "execution_count": 3,
   "metadata": {},
   "outputs": [
    {
     "name": "stdout",
     "output_type": "stream",
     "text": [
      "     name  age job\n",
      "0    John   18   a\n",
      "1    Joey   20   b\n",
      "2  Janson   22   c\n",
      "3   Peter   24   a\n"
     ]
    }
   ],
   "source": [
    "df = pd.DataFrame({'name': ['John', 'Joey', 'Janson', 'Peter'], 'age': [18, 20, 22, 24], 'job': ['a', 'b', 'c', 'a']})\n",
    "print(df)"
   ]
  },
  {
   "cell_type": "code",
   "execution_count": 9,
   "metadata": {},
   "outputs": [
    {
     "name": "stdout",
     "output_type": "stream",
     "text": [
      "     name  age  job\n",
      "0    John   18    0\n",
      "1    Joey   20    1\n",
      "2  Janson   22    2\n",
      "3   Peter   24    0\n"
     ]
    }
   ],
   "source": [
    "df['job'] = pd.factorize(df['job'])[0]\n",
    "print(df)"
   ]
  },
  {
   "cell_type": "code",
   "execution_count": null,
   "metadata": {},
   "outputs": [],
   "source": []
  }
 ],
 "metadata": {
  "kernelspec": {
   "display_name": "Python 3",
   "language": "python",
   "name": "python3"
  },
  "language_info": {
   "codemirror_mode": {
    "name": "ipython",
    "version": 3
   },
   "file_extension": ".py",
   "mimetype": "text/x-python",
   "name": "python",
   "nbconvert_exporter": "python",
   "pygments_lexer": "ipython3",
   "version": "3.7.3"
  }
 },
 "nbformat": 4,
 "nbformat_minor": 2
}
